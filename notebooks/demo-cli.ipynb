{
 "cells": [
  {
   "cell_type": "markdown",
   "id": "d8c464fa-ce6c-457c-8f95-feccc1b54c26",
   "metadata": {
    "tags": []
   },
   "source": [
    "# Rolling-Pin CLI\n",
    "\n",
    "<font size=4 color=\"#EBB483\">Rolling-Pin comes with a CLI tailored for automating python build processes.\n",
    "    \n",
    "<font size=4 color=\"#EBB483\">The CLI is used extensively in all [datalus](https://github.com/theNewFlesh/cookiecutter-datalus) templated repos."
   ]
  },
  {
   "cell_type": "markdown",
   "id": "2d9c8186-c39c-4272-971d-6c0e264d0f26",
   "metadata": {
    "tags": []
   },
   "source": [
    "<font size=4 color=\"#EBB483\"><br>**--help** will show you all the available CLI commands."
   ]
  },
  {
   "cell_type": "code",
   "execution_count": 1,
   "id": "83dc6de9-6153-4646-b2ef-53dd642db61e",
   "metadata": {
    "tags": []
   },
   "outputs": [
    {
     "name": "stdout",
     "output_type": "stream",
     "text": [
      "\u001b[0;94mROLLING-PIN ====================================================================\u001b[0m\n",
      "\n",
      "\u001b[0;92m    FLAGS \u001b[0m\n",
      "        \u001b[0;92m--help\u001b[0m  Show this message and exit.\n",
      "\n",
      "\u001b[0;96m    COMMANDS \u001b[0m\n",
      "        \u001b[0;96mbash-completion\u001b[0m  \u001b[0;97mBASH completion code to be written to a...\n",
      "        \u001b[0;96mconform\u001b[0m          \u001b[0;97mCopies source files to target filepaths...\n",
      "        \u001b[0;96mgraph\u001b[0m            \u001b[0;97mGenerate a dependency graph of a source...\n",
      "        \u001b[0;96mplot\u001b[0m             \u001b[0;97mWrite radon metrics plots of given repository...\n",
      "        \u001b[0;96mtable\u001b[0m            \u001b[0;97mWrite radon metrics tables of given repository...\n",
      "        \u001b[0;96mtoml\u001b[0m             \u001b[0;97mGenerate a copy of a given TOML file with given...\n",
      "        \u001b[0;96mzsh-completion\u001b[0m   \u001b[0;97mZSH completion code to be written to a...\n",
      "\n",
      "\u001b[0;94m================================================================================\u001b[0m\n",
      "\u001b[0m"
     ]
    }
   ],
   "source": [
    "!rolling-pin --help"
   ]
  },
  {
   "cell_type": "markdown",
   "id": "d2e59051-3f0a-4126-98f7-a6ac61f40422",
   "metadata": {
    "tags": []
   },
   "source": [
    "<font size=4 color=\"#EBB483\"><br>**conform** is used to build target directories, such as python packages."
   ]
  },
  {
   "cell_type": "code",
   "execution_count": 2,
   "id": "0f8113a4-2a94-4487-b92f-ef67c4ec0c63",
   "metadata": {
    "tags": []
   },
   "outputs": [
    {
     "name": "stdout",
     "output_type": "stream",
     "text": [
      "\u001b[0;94mCONFORM ========================================================================\u001b[0m\n",
      "\n",
      "    \u001b[0;97mCopies source files to target filepaths according to given conform\n",
      "    file.\u001b[0m\n",
      "\n",
      "    \u001b[0;96mARGUMENTS\u001b[0m\n",
      "        \u001b[0;96msource\u001b[0m  conform YAML filepath\n",
      "\n",
      "\u001b[0;92m    FLAGS \u001b[0m\n",
      "        \u001b[0;92m--groups TEXT\u001b[0m  Comma separated list of groups to be conformed. Default:\n",
      "                       'all'\n",
      "        \u001b[0;92m--dryrun\u001b[0m       Print out conform table instead of run conform.\n",
      "        \u001b[0;92m--help\u001b[0m         Show this message and exit.\n",
      "\n",
      "\u001b[0;94m================================================================================\u001b[0m\n",
      "\u001b[0m"
     ]
    }
   ],
   "source": [
    "!rolling-pin conform --help"
   ]
  },
  {
   "cell_type": "markdown",
   "id": "ed38652a-329b-4164-817a-722741ee7b27",
   "metadata": {
    "tags": []
   },
   "source": [
    "<font size=4 color=\"#EBB483\"><br>**graph** reads python import statements and generates a dependency graph SVG file."
   ]
  },
  {
   "cell_type": "code",
   "execution_count": 3,
   "id": "1089ee97-e11a-419e-bf4b-717e4e896e2b",
   "metadata": {
    "tags": []
   },
   "outputs": [
    {
     "name": "stdout",
     "output_type": "stream",
     "text": [
      "\u001b[0;94mGRAPH ==========================================================================\u001b[0m\n",
      "\n",
      "    \u001b[0;97mGenerate a dependency graph of a source repository and write it to\n",
      "    a given filepath\u001b[0m\n",
      "\n",
      "    \u001b[0;96mARGUMENTS\u001b[0m\n",
      "        \u001b[0;96msource\u001b[0m  repository path\n",
      "        \u001b[0;96mtarget\u001b[0m  target filepath\n",
      "\n",
      "\u001b[0;92m    FLAGS \u001b[0m\n",
      "        \u001b[0;92m--include TEXT\u001b[0m  include files that match this regex pattern. default:\n",
      "                        '.*\\.py$'\n",
      "        \u001b[0;92m--exclude TEXT\u001b[0m  exclude files that match this regex pattern. default:\n",
      "                        'test|mock'\n",
      "        \u001b[0;92m--orient TEXT\u001b[0m   graph orientation. default: lr.\n",
      "        \u001b[0;92m--help\u001b[0m          Show this message and exit.\n",
      "\n",
      "\u001b[0;94m================================================================================\u001b[0m\n",
      "\u001b[0m"
     ]
    }
   ],
   "source": [
    "!rolling-pin graph --help"
   ]
  },
  {
   "cell_type": "markdown",
   "id": "7d86e083-e1f8-4f49-9f4e-3cf27c58c252",
   "metadata": {
    "tags": []
   },
   "source": [
    "<font size=4 color=\"#EBB483\"><br>**plot** generates code metrics and renders them as plotly plots in an HTML file. "
   ]
  },
  {
   "cell_type": "code",
   "execution_count": 4,
   "id": "9c2202d8-9160-4bde-be25-32895c04247e",
   "metadata": {
    "tags": []
   },
   "outputs": [
    {
     "name": "stdout",
     "output_type": "stream",
     "text": [
      "\u001b[0;94mPLOT ===========================================================================\u001b[0m\n",
      "\n",
      "    \u001b[0;97mWrite radon metrics plots of given repository to given filepath.\n",
      "    \u001b[0m\n",
      "\n",
      "    \u001b[0;96mARGUMENTS\u001b[0m\n",
      "        \u001b[0;96msource\u001b[0m  repository path\n",
      "        \u001b[0;96mtarget\u001b[0m  plot filepath\n",
      "\n",
      "\u001b[0;92m    FLAGS \u001b[0m\n",
      "        \u001b[0;92m--help\u001b[0m  Show this message and exit.\n",
      "\n",
      "\u001b[0;94m================================================================================\u001b[0m\n",
      "\u001b[0m"
     ]
    }
   ],
   "source": [
    "!rolling-pin plot --help"
   ]
  },
  {
   "cell_type": "markdown",
   "id": "6b368579-e663-4637-9a62-121fc80bb092",
   "metadata": {
    "tags": []
   },
   "source": [
    "<font size=4 color=\"#EBB483\"><br>**table** generates code metrics and writes them to a table inside a HTML file."
   ]
  },
  {
   "cell_type": "code",
   "execution_count": 5,
   "id": "588590d2-5f20-4797-8c4d-c5dac98384de",
   "metadata": {
    "tags": []
   },
   "outputs": [
    {
     "name": "stdout",
     "output_type": "stream",
     "text": [
      "\u001b[0;94mTABLE ==========================================================================\u001b[0m\n",
      "\n",
      "    \u001b[0;97mWrite radon metrics tables of given repository to given directory\n",
      "    \u001b[0m\n",
      "\n",
      "    \u001b[0;96mARGUMENTS\u001b[0m\n",
      "        \u001b[0;96msource\u001b[0m  repository path\n",
      "        \u001b[0;96mtarget\u001b[0m  table directory\n",
      "\n",
      "\u001b[0;92m    FLAGS \u001b[0m\n",
      "        \u001b[0;92m--help\u001b[0m  Show this message and exit.\n",
      "\n",
      "\u001b[0;94m================================================================================\u001b[0m\n",
      "\u001b[0m"
     ]
    }
   ],
   "source": [
    "!rolling-pin table --help"
   ]
  },
  {
   "cell_type": "markdown",
   "id": "0af33f05-8b28-498c-b759-f9b33f50fab4",
   "metadata": {
    "tags": []
   },
   "source": [
    "<font size=4 color=\"#EBB483\"><br>**toml** is used in modifying TOML files, such as pyproject.toml."
   ]
  },
  {
   "cell_type": "code",
   "execution_count": 6,
   "id": "2a426c9d-7755-4cd8-91fe-76fba1845840",
   "metadata": {
    "tags": []
   },
   "outputs": [
    {
     "name": "stdout",
     "output_type": "stream",
     "text": [
      "\u001b[0;94mTOML ===========================================================================\u001b[0m\n",
      "\n",
      "    \u001b[0;97mGenerate a copy of a given TOML file with given edits indicated by\n",
      "    flags. Flags are evalauted in the following order: edit, delete, search.\n",
      "    Flags may be arbitrarily combined. Edit and delete flags may appear\n",
      "    multiple times.\u001b[0m\n",
      "\n",
      "    \u001b[0;93mEXAMPLES\n",
      "        EXAMPLE-FILE------------------------------------------------------------\u001b[0m\n",
      "            \u001b[0;94m>>>\u001b[0mcat example.toml\u001b[0;95m\n",
      "            [root]\n",
      "            a = 1\n",
      "            b = 2\n",
      "   \n",
      "            [root.foo.bar]\n",
      "            x = \"y\"\n",
      "   \n",
      "            [world]\n",
      "            hello = true\n",
      "\n",
      "        \u001b[0;93mEDIT-FLAG-------------------------------------------------------------------\u001b[0m\n",
      "            \u001b[0;94m>>>\u001b[0mrolling-pin toml foobar.toml --edit 'root.a=999'\u001b[0;95m\n",
      "            [root]\n",
      "            a = 999\n",
      "            b = 2...\n",
      "   \n",
      "            \u001b[0;93m--------------------------------------------------------------------\u001b[0m\n",
      "            \u001b[0;94m>>>\u001b[0mrolling-pin toml foobar.toml \\\n",
      "                   --edit 'root.a=[1, 2]'   \\\n",
      "                   --edit 'root.b=\"xxx\"'\u001b[0;95m\n",
      "            [root]\n",
      "            a = [\n",
      "                1,\n",
      "                2,\n",
      "            ]\n",
      "            b = \"xxx\"...\n",
      "   \n",
      "            \u001b[0;93m--------------------------------------------------------------------\u001b[0m\n",
      "            \u001b[0;94m>>>\u001b[0mrolling-pin toml foobar.toml --edit 'root.foo.bar=\"baz\"'\u001b[0;95m\n",
      "            ...\n",
      "            hello = true\n",
      "   \n",
      "            [root.foo]\n",
      "            bar = \"baz\"...\n",
      "\n",
      "        \u001b[0;93mDELETE-FLAG-------------------------------------------------------------\u001b[0m\n",
      "            \u001b[0;94m>>>\u001b[0mrolling-pin toml foobar.toml \\\n",
      "                   --delete 'root.foo.bar'  \\\n",
      "                   --delete 'root.a'\u001b[0;95m\n",
      "            [root]\n",
      "            b = 2\n",
      "   \n",
      "            [world]\n",
      "            hello = true\n",
      "\n",
      "        \u001b[0;93mSEARCH-FLAG-------------------------------------------------------------\u001b[0m\n",
      "            \u001b[0;94m>>>\u001b[0mrolling-pin toml foobar.toml --search 'root.foo|world'\u001b[0;95m\n",
      "            [world]\n",
      "            hello = true\n",
      "   \n",
      "            [root.foo.bar]\n",
      "            x = \"y\"\n",
      "\n",
      "    \u001b[0;96mARGUMENTS\u001b[0m\n",
      "        \u001b[0;96msource\u001b[0m  TOML filepath\n",
      "\n",
      "\u001b[0;92m    FLAGS \u001b[0m\n",
      "        \u001b[0;92m--edit TEXT\u001b[0m    Replace key's value with given value. TEXT is \"=\" separated\n",
      "                       key value pair in TOML format\n",
      "        \u001b[0;92m--delete TEXT\u001b[0m  Delete keys that match this regular expression\n",
      "        \u001b[0;92m--search TEXT\u001b[0m  Search for keys that match this regular expression\n",
      "        \u001b[0;92m--target TEXT\u001b[0m  Target filepath to write to\n",
      "        \u001b[0;92m--help\u001b[0m         Show this message and exit.\n",
      "\n",
      "\u001b[0;94m================================================================================\u001b[0m\n",
      "\u001b[0m"
     ]
    }
   ],
   "source": [
    "!rolling-pin toml --help"
   ]
  },
  {
   "cell_type": "code",
   "execution_count": null,
   "id": "ea7c4f71-848d-47d9-a009-65bf814c5a1c",
   "metadata": {},
   "outputs": [],
   "source": []
  }
 ],
 "metadata": {
  "kernelspec": {
   "display_name": "Python 3 (ipykernel)",
   "language": "python",
   "name": "python3"
  },
  "language_info": {
   "codemirror_mode": {
    "name": "ipython",
    "version": 3
   },
   "file_extension": ".py",
   "mimetype": "text/x-python",
   "name": "python",
   "nbconvert_exporter": "python",
   "pygments_lexer": "ipython3",
   "version": "3.13.2"
  }
 },
 "nbformat": 4,
 "nbformat_minor": 5
}
