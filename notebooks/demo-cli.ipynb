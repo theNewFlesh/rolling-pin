{
 "cells": [
  {
   "cell_type": "markdown",
   "id": "d8c464fa-ce6c-457c-8f95-feccc1b54c26",
   "metadata": {
    "tags": []
   },
   "source": [
    "# Rolling-Pin CLI\n",
    "\n",
    "<font size=4 color=\"#EBB483\">Rolling-Pin comes with a CLI tailored for automating python build processes.\n",
    "    \n",
    "<font size=4 color=\"#EBB483\">The CLI is used extensively in all [datalus](https://github.com/theNewFlesh/cookiecutter-datalus) templated repos."
   ]
  },
  {
   "cell_type": "markdown",
   "id": "2d9c8186-c39c-4272-971d-6c0e264d0f26",
   "metadata": {
    "tags": []
   },
   "source": [
    "<font size=4 color=\"#EBB483\"><br>**--help** will show you all the available CLI commands."
   ]
  },
  {
   "cell_type": "code",
   "execution_count": 2,
   "id": "83dc6de9-6153-4646-b2ef-53dd642db61e",
   "metadata": {
    "tags": []
   },
   "outputs": [
    {
     "name": "stdout",
     "output_type": "stream",
     "text": [
      "Usage: rolling-pin [OPTIONS] COMMAND [ARGS]...\n",
      "\n",
      "Options:\n",
      "  --help  Show this message and exit.\n",
      "\n",
      "Commands:\n",
      "  bash-completion  BASH completion code to be written to a _rolling-pin...\n",
      "  conform          Copies source files to target filepaths according to...\n",
      "  graph            Generate a dependency graph of a source repository and...\n",
      "  plot             Write radon metrics plots of given repository to given...\n",
      "  table            Write radon metrics tables of given repository to...\n",
      "  toml             Generate a copy of a given TOML file with given edits...\n",
      "  zsh-completion   ZSH completion code to be written to a _rolling-pin...\n",
      "\u001b[0m"
     ]
    }
   ],
   "source": [
    "!rolling-pin --help"
   ]
  },
  {
   "cell_type": "markdown",
   "id": "d2e59051-3f0a-4126-98f7-a6ac61f40422",
   "metadata": {
    "tags": []
   },
   "source": [
    "<font size=4 color=\"#EBB483\"><br>**conform** is used to build target directories, such as python packages."
   ]
  },
  {
   "cell_type": "code",
   "execution_count": 3,
   "id": "0f8113a4-2a94-4487-b92f-ef67c4ec0c63",
   "metadata": {
    "tags": []
   },
   "outputs": [
    {
     "name": "stdout",
     "output_type": "stream",
     "text": [
      "Usage: rolling-pin conform [OPTIONS] SOURCE\n",
      "\n",
      "  Copies source files to target filepaths according to given conform file.\n",
      "\n",
      "  Arguments:\n",
      "      SOURCE - conform YAML filepath\n",
      "\n",
      "Options:\n",
      "  --groups TEXT  Comma separated list of groups to be conformed. Default:\n",
      "                 'all'\n",
      "  --dryrun       Print out conform table instead of run conform.\n",
      "  --help         Show this message and exit.\n",
      "\u001b[0m"
     ]
    }
   ],
   "source": [
    "!rolling-pin conform --help"
   ]
  },
  {
   "cell_type": "markdown",
   "id": "ed38652a-329b-4164-817a-722741ee7b27",
   "metadata": {
    "tags": []
   },
   "source": [
    "<font size=4 color=\"#EBB483\"><br>**graph** reads python import statements and generates a dependency graph SVG file."
   ]
  },
  {
   "cell_type": "code",
   "execution_count": 4,
   "id": "1089ee97-e11a-419e-bf4b-717e4e896e2b",
   "metadata": {
    "tags": []
   },
   "outputs": [
    {
     "name": "stdout",
     "output_type": "stream",
     "text": [
      "Usage: rolling-pin graph [OPTIONS] SOURCE TARGET\n",
      "\n",
      "  Generate a dependency graph of a source repository and write it to a given\n",
      "  filepath\n",
      "\n",
      "  Arguments:\n",
      "      SOURCE - repository path\n",
      "      TARGET - target filepath\n",
      "\n",
      "Options:\n",
      "  --include TEXT  include files that match this regex pattern. default:\n",
      "                  '.*\\.py$'\n",
      "  --exclude TEXT  exclude files that match this regex pattern. default:\n",
      "                  'test|mock'\n",
      "  --orient TEXT   graph orientation. default: lr.\n",
      "  --help          Show this message and exit.\n",
      "\u001b[0m"
     ]
    }
   ],
   "source": [
    "!rolling-pin graph --help"
   ]
  },
  {
   "cell_type": "markdown",
   "id": "7d86e083-e1f8-4f49-9f4e-3cf27c58c252",
   "metadata": {
    "tags": []
   },
   "source": [
    "<font size=4 color=\"#EBB483\"><br>**plot** generates code metrics and renders them as plotly plots in an HTML file. "
   ]
  },
  {
   "cell_type": "code",
   "execution_count": 5,
   "id": "9c2202d8-9160-4bde-be25-32895c04247e",
   "metadata": {
    "tags": []
   },
   "outputs": [
    {
     "name": "stdout",
     "output_type": "stream",
     "text": [
      "Usage: rolling-pin plot [OPTIONS] SOURCE TARGET\n",
      "\n",
      "  Write radon metrics plots of given repository to given filepath\n",
      "\n",
      "  Arguments:\n",
      "      SOURCE - repository path\n",
      "      TARGET - plot filepath\n",
      "\n",
      "Options:\n",
      "  --help  Show this message and exit.\n",
      "\u001b[0m"
     ]
    }
   ],
   "source": [
    "!rolling-pin plot --help"
   ]
  },
  {
   "cell_type": "markdown",
   "id": "6b368579-e663-4637-9a62-121fc80bb092",
   "metadata": {
    "tags": []
   },
   "source": [
    "<font size=4 color=\"#EBB483\"><br>**table** generates code metrics and writes them to a table inside a HTML file."
   ]
  },
  {
   "cell_type": "code",
   "execution_count": 6,
   "id": "588590d2-5f20-4797-8c4d-c5dac98384de",
   "metadata": {
    "tags": []
   },
   "outputs": [
    {
     "name": "stdout",
     "output_type": "stream",
     "text": [
      "Usage: rolling-pin table [OPTIONS] SOURCE TARGET\n",
      "\n",
      "  Write radon metrics tables of given repository to given directory\n",
      "\n",
      "  Arguments:\n",
      "      SOURCE - repository path\n",
      "      TARGET - table directory\n",
      "\n",
      "Options:\n",
      "  --help  Show this message and exit.\n",
      "\u001b[0m"
     ]
    }
   ],
   "source": [
    "!rolling-pin table --help"
   ]
  },
  {
   "cell_type": "markdown",
   "id": "0af33f05-8b28-498c-b759-f9b33f50fab4",
   "metadata": {
    "tags": []
   },
   "source": [
    "<font size=4 color=\"#EBB483\"><br>**toml** is used in modifying TOML files, such as pyproject.toml."
   ]
  },
  {
   "cell_type": "code",
   "execution_count": 7,
   "id": "2a426c9d-7755-4cd8-91fe-76fba1845840",
   "metadata": {
    "tags": []
   },
   "outputs": [
    {
     "name": "stdout",
     "output_type": "stream",
     "text": [
      "Usage: rolling-pin toml [OPTIONS] SOURCE\n",
      "\n",
      "  Generate a copy of a given TOML file with given edits indicated by flags.\n",
      "  Flags are evalauted in the following order: edit, delete, search. Flags may\n",
      "  be arbitrarily combined. Edit and delete flags may appear multiple times.\n",
      "\n",
      "  Arguments:\n",
      "      SOURCE - TOML filepath\n",
      "\n",
      "  EXAMPLES\n",
      "      EXAMPLE-FILE------------------------------------------------------------\n",
      "          >>>cat example.toml\n",
      "          [root]\n",
      "          a = 1\n",
      "          b = 2\n",
      " \n",
      "          [root.foo.bar]\n",
      "          x = \"y\"\n",
      " \n",
      "          [world]\n",
      "          hello = true\n",
      "\n",
      "      EDIT-FLAG---------------------------------------------------------------\n",
      "          >>>rolling-pin toml foobar.toml --edit 'root.a=999'\n",
      "          [root]\n",
      "          a = 999\n",
      "          b = 2...\n",
      " \n",
      "          --------------------------------------------------------------------\n",
      "          >>>rolling-pin toml foobar.toml \\\n",
      "                 --edit 'root.a=[1, 2]'   \\\n",
      "                 --edit 'root.b=\"xxx\"'\n",
      "          [root]\n",
      "          a = [\n",
      "              1,\n",
      "              2,\n",
      "          ]\n",
      "          b = \"xxx\"...\n",
      " \n",
      "          --------------------------------------------------------------------\n",
      "          >>>rolling-pin toml foobar.toml --edit 'root.foo.bar=\"baz\"'\n",
      "          ...\n",
      "          hello = true\n",
      " \n",
      "          [root.foo]\n",
      "          bar = \"baz\"...\n",
      "\n",
      "      DELETE-FLAG-------------------------------------------------------------\n",
      "          >>>rolling-pin toml foobar.toml \\\n",
      "                 --delete 'root.foo.bar'  \\\n",
      "                 --delete 'root.a'\n",
      "          [root]\n",
      "          b = 2\n",
      " \n",
      "          [world]\n",
      "          hello = true\n",
      "\n",
      "      SEARCH-FLAG-------------------------------------------------------------\n",
      "          >>>rolling-pin toml foobar.toml --search 'root.foo|world'\n",
      "          [world]\n",
      "          hello = true\n",
      " \n",
      "          [root.foo.bar]\n",
      "          x = \"y\"\n",
      "\n",
      "Options:\n",
      "  --edit TEXT    Replace key's value with given value. TEXT is \"=\" separated\n",
      "                 key value pair in TOML format\n",
      "  --delete TEXT  Delete keys that match this regular expression\n",
      "  --search TEXT  Search for keys that match this regular expression\n",
      "  --target TEXT  Target filepath to write to\n",
      "  --help         Show this message and exit.\n",
      "\u001b[0m"
     ]
    }
   ],
   "source": [
    "!rolling-pin toml --help"
   ]
  },
  {
   "cell_type": "code",
   "execution_count": null,
   "id": "ea7c4f71-848d-47d9-a009-65bf814c5a1c",
   "metadata": {},
   "outputs": [],
   "source": []
  }
 ],
 "metadata": {
  "kernelspec": {
   "display_name": "Python 3 (ipykernel)",
   "language": "python",
   "name": "python3"
  },
  "language_info": {
   "codemirror_mode": {
    "name": "ipython",
    "version": 3
   },
   "file_extension": ".py",
   "mimetype": "text/x-python",
   "name": "python",
   "nbconvert_exporter": "python",
   "pygments_lexer": "ipython3",
   "version": "3.13.2"
  }
 },
 "nbformat": 4,
 "nbformat_minor": 5
}
