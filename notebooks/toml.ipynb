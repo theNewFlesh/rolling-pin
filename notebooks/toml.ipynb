{
 "cells": [
  {
   "cell_type": "code",
   "execution_count": 1,
   "id": "a93498ab-7b7f-47c9-a29c-45a19e8017fd",
   "metadata": {},
   "outputs": [],
   "source": [
    "import toml\n",
    "\n",
    "from rolling_pin.blob_etl import BlobETL\n",
    "from rolling_pin.toml_etl import TomlETL"
   ]
  },
  {
   "cell_type": "code",
   "execution_count": 8,
   "id": "c8356318-473e-44c4-aa38-bd09082c4d67",
   "metadata": {},
   "outputs": [
    {
     "name": "stdout",
     "output_type": "stream",
     "text": [
      "[foo]\n",
      "a = 1\n",
      "b = 2\n",
      "c = [\n",
      "    \"a\",\n",
      "    \"b\",\n",
      "    \"c\",\n",
      "]\n",
      "\n",
      "[foo.bar]\n",
      "l = \"bagel\"\n",
      "\n"
     ]
    }
   ],
   "source": [
    "x = '''\n",
    "[foo]\n",
    "a = 1\n",
    "b = 2\n",
    "\n",
    "[foo.bar]\n",
    "l = [\n",
    "    \"a\",\n",
    "    \"b\",\n",
    "    \"c\"\n",
    "]\n",
    "'''\n",
    "\n",
    "# x = TomlETL.from_string(x) \\\n",
    "#     .edit('foo.b', 'bagelface') \\\n",
    "#     .edit('foo.bar.c', ':DELETE:') \\\n",
    "#     .edit('your.mom', 'goes to college') \\\n",
    "#     .to_string()\n",
    "\n",
    "# x = TomlETL.from_string(x) \\\n",
    "#     .edit('foo.c=[\"a\", \"b\", \"c\"]') \\\n",
    "#     .edit('foo.a=\":DELETE:\"') \\\n",
    "#     .to_string()\n",
    "\n",
    "x = TomlETL.from_string(x) \\\n",
    "    .edit('foo.c=[\"a\", \"b\", \"c\"]') \\\n",
    "    .edit('foo.bar.l=\"bagel\"') \\\n",
    "    .to_string()\n",
    "\n",
    "print(x)"
   ]
  },
  {
   "cell_type": "code",
   "execution_count": 5,
   "id": "67e80ede-b27e-4d5f-b73d-ddb5789c82cb",
   "metadata": {},
   "outputs": [
    {
     "data": {
      "text/plain": [
       "<rolling_pin.toml_etl.TomlEtl at 0x7f2b680844c0>"
      ]
     },
     "execution_count": 5,
     "metadata": {},
     "output_type": "execute_result"
    }
   ],
   "source": [
    "src = '/home/ubuntu/rolling-pin/docker/config/pyproject.toml'\n",
    "TomlEtl.from_file(src)"
   ]
  },
  {
   "cell_type": "code",
   "execution_count": 7,
   "id": "12ad9407-407b-4d58-85bd-c6f0184ece71",
   "metadata": {},
   "outputs": [
    {
     "data": {
      "text/plain": [
       "{'foo.c.<list_0>': 'a', 'foo.c.<list_1>': 'b', 'foo.c.<list_2>': 'c'}"
      ]
     },
     "execution_count": 7,
     "metadata": {},
     "output_type": "execute_result"
    }
   ],
   "source": [
    "import rolling_pin.tools as rpt\n",
    "x = toml.loads('foo.c=[\"a\", \"b\", \"c\"]')\n",
    "x = rpt.flatten(x, separator='.')"
   ]
  },
  {
   "cell_type": "code",
   "execution_count": null,
   "id": "e6e6e898-152e-48d0-934a-bf92d9eb74a7",
   "metadata": {},
   "outputs": [],
   "source": [
    "rpt.nest("
   ]
  }
 ],
 "metadata": {
  "kernelspec": {
   "display_name": "Python 3 (ipykernel)",
   "language": "python",
   "name": "python3"
  },
  "language_info": {
   "codemirror_mode": {
    "name": "ipython",
    "version": 3
   },
   "file_extension": ".py",
   "mimetype": "text/x-python",
   "name": "python",
   "nbconvert_exporter": "python",
   "pygments_lexer": "ipython3",
   "version": "3.10.6"
  }
 },
 "nbformat": 4,
 "nbformat_minor": 5
}
