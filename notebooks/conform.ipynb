{
 "cells": [
  {
   "cell_type": "code",
   "execution_count": 1,
   "id": "6244feef-52f9-4e6d-ba82-4a69c9f93b3c",
   "metadata": {},
   "outputs": [],
   "source": [
    "from pathlib import Path\n",
    "from itertools import chain\n",
    "from pandas import DataFrame, Series\n",
    "\n",
    "from rolling_pin.conform_etl import ConformETL"
   ]
  },
  {
   "cell_type": "code",
   "execution_count": 37,
   "id": "cabac2bc-d765-4ce4-ad96-0849cc63e7c2",
   "metadata": {},
   "outputs": [
    {
     "data": {
      "text/plain": [
       "'bar'"
      ]
     },
     "execution_count": 37,
     "metadata": {},
     "output_type": "execute_result"
    }
   ],
   "source": [
    "*a, foo = (1,2,3, 'bar')\n",
    "foo"
   ]
  },
  {
   "cell_type": "code",
   "execution_count": 2,
   "id": "643cc900-24f4-41e8-8bb8-c618df5bc957",
   "metadata": {},
   "outputs": [
    {
     "data": {
      "text/plain": [
       "                                                         SOURCE                                             TARGET               GROUPS  LINE_RULE\n",
       "                               /home/ubuntu/rolling-pin/LICENSE                                  /tmp/repo/LICENSE               [base]           \n",
       "                             /home/ubuntu/rolling-pin/README.md                                /tmp/repo/README.md               [base]           \n",
       "        /home/ubuntu/rolling-pin/python/rolling_pin/__init__.py                  /tmp/repo/rolling_pin/__init__.py               [init]          X\n",
       "             /home/ubuntu/rolling-pin/python/rolling_pin/app.py                       /tmp/repo/rolling_pin/app.py               [base]           \n",
       "        /home/ubuntu/rolling-pin/python/rolling_pin/blob_etl.py                  /tmp/repo/rolling_pin/blob_etl.py               [base]           \n",
       "   /home/ubuntu/rolling-pin/python/rolling_pin/blob_etl_test.py             /tmp/repo/rolling_pin/blob_etl_test.py               [test]           \n",
       "     /home/ubuntu/rolling-pin/python/rolling_pin/conform_etl.py               /tmp/repo/rolling_pin/conform_etl.py               [base]           \n",
       "/home/ubuntu/rolling-pin/python/rolling_pin/conform_etl_test.py          /tmp/repo/rolling_pin/conform_etl_test.py               [test]           \n",
       "       /home/ubuntu/rolling-pin/python/rolling_pin/radon_etl.py                 /tmp/repo/rolling_pin/radon_etl.py               [base]           \n",
       "  /home/ubuntu/rolling-pin/python/rolling_pin/radon_etl_test.py            /tmp/repo/rolling_pin/radon_etl_test.py               [test]           \n",
       "        /home/ubuntu/rolling-pin/python/rolling_pin/repo_etl.py                  /tmp/repo/rolling_pin/repo_etl.py               [base]           \n",
       "   /home/ubuntu/rolling-pin/python/rolling_pin/repo_etl_test.py             /tmp/repo/rolling_pin/repo_etl_test.py               [test]           \n",
       "           /home/ubuntu/rolling-pin/python/rolling_pin/tools.py                     /tmp/repo/rolling_pin/tools.py               [base]           \n",
       "      /home/ubuntu/rolling-pin/python/rolling_pin/tools_test.py                /tmp/repo/rolling_pin/tools_test.py               [test]           \n",
       "   /home/ubuntu/rolling-pin/resources/conform_repo/FAKE-LICENSE      /tmp/repo/resources/conform_repo/FAKE-LICENSE           [resource]           \n",
       "    /home/ubuntu/rolling-pin/resources/conform_repo/FAKE-README       /tmp/repo/resources/conform_repo/FAKE-README           [resource]           "
      ]
     },
     "execution_count": 2,
     "metadata": {},
     "output_type": "execute_result"
    }
   ],
   "source": [
    "exclude_re = '.(git|mypy|pytest)|__(pycache|mypy)__'\n",
    "source_dir = '/home/ubuntu/rolling-pin'\n",
    "target_dir = '/tmp/repo'\n",
    "source_rules = [\n",
    "    dict(\n",
    "        path=source_dir + '/python/rolling_pin',\n",
    "        include=None,\n",
    "        exclude=exclude_re,\n",
    "    ),\n",
    "    dict(\n",
    "        path=source_dir + '/docker',\n",
    "        include='pyproject\\.toml|pdm\\.lock|pdm\\.toml',\n",
    "        exclude=exclude_re,\n",
    "    ),\n",
    "    dict(\n",
    "        path=source_dir,\n",
    "        include='README|LICENSE',\n",
    "        exclude=exclude_re + '|docker',\n",
    "    ),\n",
    "]\n",
    "\n",
    "rename_rules = [\n",
    "    dict(regex='/home/ubuntu/rolling-pin', replace='/tmp/repo'),\n",
    "    dict(regex='/docker', replace=''),\n",
    "    dict(regex='/python', replace=''),\n",
    "    dict(regex='/pdm.lock', replace='/.pdm.lock'),\n",
    "]\n",
    "\n",
    "group_rules = [\n",
    "    dict(name='init', regex='__init__.py$'),\n",
    "    dict(name='test', regex='_test.py$'),\n",
    "    dict(name='resource', regex='/resources'),\n",
    "]\n",
    "\n",
    "line_rules = [\n",
    "    dict(\n",
    "        group='init',\n",
    "        include=None,\n",
    "        exclude='test',\n",
    "    )\n",
    "]\n",
    "\n",
    "d = ConformETL(source_rules, rename_rules, group_rules, line_rules)\n",
    "d.to_html()\n",
    "d"
   ]
  },
  {
   "cell_type": "code",
   "execution_count": 34,
   "id": "1853f8b0-c32c-4165-b6e9-c4c5ab9757f4",
   "metadata": {},
   "outputs": [
    {
     "name": "stdout",
     "output_type": "stream",
     "text": [
      "                                                         SOURCE                                             TARGET               GROUPS  LINE_RULE x\n",
      "                                                         SOURCE                                             TARGET               GROUPS  LINE_RULE x\n"
     ]
    }
   ],
   "source": [
    "e = f'{\"SOURCE\":>63}{\"TARGET\":>51}{\"GROUPS\":>21}{\"LINE_RULE\":>11}'\n",
    "print(e, 'x')\n",
    "print(d.__repr__().split('\\n')[0], 'x')"
   ]
  },
  {
   "cell_type": "code",
   "execution_count": 15,
   "id": "8e016a0b-8b42-45f0-8c0c-7d1632eac5ad",
   "metadata": {},
   "outputs": [
    {
     "name": "stdout",
     "output_type": "stream",
     "text": [
      "SOURCE                                                                           ==>        TARGET                                                                           GROUPS              \n",
      "/ home / ubuntu / rolling-pin                        /           LICENSE         ==>        / tmp / repo               /           LICENSE                                   [base]              \n",
      "/ home / ubuntu / rolling-pin                        /         README.md         ==>        / tmp / repo               /         README.md                                   [base]              \n",
      "/ home / ubuntu / rolling-pin / python / rolling_pin /       __init__.py         ==>        / tmp / repo / rolling_pin /       __init__.py                                   [init]              \n",
      "/ home / ubuntu / rolling-pin / python / rolling_pin /            app.py         ==>        / tmp / repo / rolling_pin /            app.py                                   [base]              \n",
      "/ home / ubuntu / rolling-pin / python / rolling_pin /       blob_etl.py         ==>        / tmp / repo / rolling_pin /       blob_etl.py                                   [base]              \n",
      "/ home / ubuntu / rolling-pin / python / rolling_pin /  blob_etl_test.py         ==>        / tmp / repo / rolling_pin /  blob_etl_test.py                                   [test]              \n",
      "/ home / ubuntu / rolling-pin / python / rolling_pin /    conform_etl.py         ==>        / tmp / repo / rolling_pin /    conform_etl.py                                   [base]              \n",
      "/ home / ubuntu / rolling-pin / python / rolling_pin /      radon_etl.py         ==>        / tmp / repo / rolling_pin /      radon_etl.py                                   [base]              \n",
      "/ home / ubuntu / rolling-pin / python / rolling_pin / radon_etl_test.py         ==>        / tmp / repo / rolling_pin / radon_etl_test.py                                   [test]              \n",
      "/ home / ubuntu / rolling-pin / python / rolling_pin /       repo_etl.py         ==>        / tmp / repo / rolling_pin /       repo_etl.py                                   [base]              \n",
      "/ home / ubuntu / rolling-pin / python / rolling_pin /  repo_etl_test.py         ==>        / tmp / repo / rolling_pin /  repo_etl_test.py                                   [test]              \n",
      "/ home / ubuntu / rolling-pin / python / rolling_pin /          tools.py         ==>        / tmp / repo / rolling_pin /          tools.py                                   [base]              \n",
      "/ home / ubuntu / rolling-pin / python / rolling_pin /     tools_test.py         ==>        / tmp / repo / rolling_pin /     tools_test.py                                   [test]              \n"
     ]
    }
   ],
   "source": [
    "def buffer_filepath(data):\n",
    "    data = data.copy()\n",
    "    output = data \\\n",
    "        .apply(lambda x: Path(x).parts[1:-1]) \\\n",
    "        .apply(lambda x: list(chain(*zip(['/'] * len(x), x)))) \\\n",
    "        .tolist()\n",
    "    output = DataFrame(output)\n",
    "    output['sep'] = '/'\n",
    "    output['filename'] = data.apply(lambda x: Path(x).name)\n",
    "    output = output.fillna('')\n",
    "    output.columns = list(range(output.shape[1]))\n",
    "    output = output.to_string(index=False, header=False).split('\\n')\n",
    "    output = Series(output)\n",
    "    return output\n",
    "\n",
    "data = d._data.copy()\n",
    "data.source = buffer_filepath(data.source)\n",
    "data.target = buffer_filepath(data.target)\n",
    "data['==>'] = '==>'\n",
    "data = data[['source', '==>', 'target', 'groups']]\n",
    "data.rename(lambda x: x.upper(), axis=1, inplace=True)\n",
    "x = data.to_string(index=False, max_colwidth=150, col_space=[80, 10, 80, 20], justify='left')\n",
    "print(x)"
   ]
  },
  {
   "cell_type": "code",
   "execution_count": 126,
   "id": "feccebe3-e3fa-49e9-a470-baa3e0710381",
   "metadata": {},
   "outputs": [
    {
     "name": "stdout",
     "output_type": "stream",
     "text": [
      "                                                       SOURCE                                             TARGET               GROUPS\n",
      "                             /home/ubuntu/rolling-pin/LICENSE                                  /tmp/repo/LICENSE               [base]\n",
      "                           /home/ubuntu/rolling-pin/README.md                                /tmp/repo/README.md               [base]\n",
      "      /home/ubuntu/rolling-pin/python/rolling_pin/__init__.py                  /tmp/repo/rolling_pin/__init__.py               [init]\n",
      "           /home/ubuntu/rolling-pin/python/rolling_pin/app.py                       /tmp/repo/rolling_pin/app.py               [base]\n",
      "      /home/ubuntu/rolling-pin/python/rolling_pin/blob_etl.py                  /tmp/repo/rolling_pin/blob_etl.py               [base]\n",
      " /home/ubuntu/rolling-pin/python/rolling_pin/blob_etl_test.py             /tmp/repo/rolling_pin/blob_etl_test.py               [test]\n",
      "     /home/ubuntu/rolling-pin/python/rolling_pin/radon_etl.py                 /tmp/repo/rolling_pin/radon_etl.py               [base]\n",
      "/home/ubuntu/rolling-pin/python/rolling_pin/radon_etl_test.py            /tmp/repo/rolling_pin/radon_etl_test.py               [test]\n",
      "      /home/ubuntu/rolling-pin/python/rolling_pin/repo_etl.py                  /tmp/repo/rolling_pin/repo_etl.py               [base]\n",
      " /home/ubuntu/rolling-pin/python/rolling_pin/repo_etl_test.py             /tmp/repo/rolling_pin/repo_etl_test.py               [test]\n",
      "         /home/ubuntu/rolling-pin/python/rolling_pin/tools.py                     /tmp/repo/rolling_pin/tools.py               [base]\n",
      "    /home/ubuntu/rolling-pin/python/rolling_pin/tools_test.py                /tmp/repo/rolling_pin/tools_test.py               [test]\n"
     ]
    }
   ],
   "source": [
    "print(d)"
   ]
  },
  {
   "cell_type": "code",
   "execution_count": null,
   "id": "c4aa15e9-eab8-48ae-8696-b69f54d4540e",
   "metadata": {},
   "outputs": [],
   "source": [
    "config = '''\n",
    "source_rules:\n",
    "  - path: \"/home/ubuntu/lunchbox\"\n",
    "    include: \"lunchbox/python/lunchbox\"\n",
    "    exclude: \".(git|mypy|pytest)|__(pycache|mypy)__\"\n",
    "  - path: /home/ubuntu/lunchbox/docker\n",
    "        include: \"pyproject\\\\.toml|pdm\\\\.lock|pdm\\\\.toml\"\n",
    "        exclude: \".(git|mypy|pytest)|__(pycache|mypy)__\"\n",
    "      - path: /home/ubuntu/lunchbox\n",
    "        include: \"README|LICENSE\"\n",
    "        exclude: \".(git|mypy|pytest)|__(pycache|mypy)__|docker\"\n",
    "\n",
    "    rename_rules:\n",
    "      - regex: \"/home/ubuntu/lunchbox\"\n",
    "        replace: \"/tmp/repo\"\n",
    "      - regex: \"/docker\"\n",
    "        replace: \"\"\n",
    "      - regex: \"/python\"\n",
    "        replace: \"\"\n",
    "      - regex: \"/pdm.lock\"\n",
    "        replace: \"/.pdm.lock\"\n",
    "\n",
    "    group_rules:\n",
    "      - name: init\n",
    "        regex: \"__init__.py$\"\n",
    "      - name: test\n",
    "        regex: \"_test.py$\"\n",
    "      - name: resource\n",
    "        regex: \"/resources\"\n",
    "\n",
    "    line_rules:\n",
    "      - group: init\n",
    "        include: None\n",
    "        exclude: \"test\"\n",
    "    '''"
   ]
  }
 ],
 "metadata": {
  "kernelspec": {
   "display_name": "Python 3",
   "language": "python",
   "name": "python3"
  },
  "language_info": {
   "codemirror_mode": {
    "name": "ipython",
    "version": 3
   },
   "file_extension": ".py",
   "mimetype": "text/x-python",
   "name": "python",
   "nbconvert_exporter": "python",
   "pygments_lexer": "ipython3",
   "version": "3.7.15"
  }
 },
 "nbformat": 4,
 "nbformat_minor": 5
}
