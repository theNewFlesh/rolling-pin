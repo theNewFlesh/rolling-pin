{
 "cells": [
  {
   "cell_type": "code",
   "execution_count": 1,
   "id": "62619fbd-65c1-4386-b2f3-3061a769a910",
   "metadata": {},
   "outputs": [
    {
     "data": {
      "text/html": [
       "        <script type=\"text/javascript\">\n",
       "        window.PlotlyConfig = {MathJaxConfig: 'local'};\n",
       "        if (window.MathJax && window.MathJax.Hub && window.MathJax.Hub.Config) {window.MathJax.Hub.Config({SVG: {font: \"STIX-Web\"}});}\n",
       "        if (typeof require !== 'undefined') {\n",
       "        require.undef(\"plotly\");\n",
       "        requirejs.config({\n",
       "            paths: {\n",
       "                'plotly': ['https://cdn.plot.ly/plotly-2.16.1.min']\n",
       "            }\n",
       "        });\n",
       "        require(['plotly'], function(Plotly) {\n",
       "            window._Plotly = Plotly;\n",
       "        });\n",
       "        }\n",
       "        </script>\n",
       "        "
      ]
     },
     "metadata": {},
     "output_type": "display_data"
    }
   ],
   "source": [
    "from itertools import chain\n",
    "from collections import Counter\n",
    "import re\n",
    "import subprocess\n",
    "import os\n",
    "from pathlib import Path\n",
    "\n",
    "import pandas as pd\n",
    "import plotly.express as px\n",
    "from pandas import Series, DataFrame\n",
    "import cufflinks as cf\n",
    "import lunchbox.tools as lbt\n",
    "import numpy as np\n",
    "\n",
    "import rolling_pin.tools as rpt\n",
    "from rolling_pin.blob_etl import BlobETL\n",
    "\n",
    "cf.go_offline()\n",
    "cf.set_config_file(theme='henanigans', colorscale='henanigans')"
   ]
  },
  {
   "cell_type": "code",
   "execution_count": 29,
   "id": "644f9769-112b-4cd7-bfa7-8a8e3786e02c",
   "metadata": {},
   "outputs": [],
   "source": [
    "def get_disk_data(root, exclude_regex='/proc|/sys|/dev|/tmp|/mnt'):\n",
    "    data = rpt.directory_to_dataframe(root, exclude_regex=exclude_regex)\n",
    "    mask = data.filepath.apply(os.path.isfile)\n",
    "    data = data[mask]\n",
    "    data.reset_index(drop=True, inplace=True)\n",
    "    data['size_bytes'] = data.filepath.apply(lambda y: lbt.try_(lambda x: os.stat(x).st_size, y, 0))\n",
    "    data['size_mb'] = data.size_bytes / 2**20\n",
    "    return data\n",
    "\n",
    "def get_sunburst_diagram(data, level):\n",
    "    data['group'] = data.filepath \\\n",
    "        .apply(lambda x: Path(x).parts[:level]) \\\n",
    "        .apply(lambda x: Path(*x).as_posix())\n",
    "\n",
    "    grp = data.groupby('group', as_index=False).size_mb.sum()\n",
    "    del data['group']\n",
    "    grp = grp.apply(lambda x: (x.group, x.size_mb), axis=1).tolist()\n",
    "    grp = BlobETL(dict(grp)).to_dataframe().fillna('-->')\n",
    "    grp['size_mb'] = grp['value'] + 0.001\n",
    "    del grp['value']\n",
    "\n",
    "    cols = grp.drop('size_mb', axis=1).columns.tolist()\n",
    "    colorscale = [\n",
    "        (0.00, '#242424'),\n",
    "        (1.00, '#8AD9E3'),\n",
    "    ]\n",
    "    fig = px.sunburst(\n",
    "        grp,\n",
    "        path=cols,\n",
    "        values='size_mb',\n",
    "        color='size_mb',\n",
    "        color_continuous_scale=colorscale,\n",
    "    )\n",
    "    fig.layout.paper_bgcolor = '#181818'\n",
    "    fig.layout.font.color = '#A4A4A4'\n",
    "    fig.layout.width = 1000\n",
    "    fig.layout.height = 1000\n",
    "    return fig"
   ]
  },
  {
   "cell_type": "code",
   "execution_count": 30,
   "id": "7e61f2d1-392b-4243-beea-a76ae290a8c6",
   "metadata": {},
   "outputs": [],
   "source": [
    "with lbt.LogRuntime(level='warn'):\n",
    "    data = get_disk_data('/home/ubuntu/pdm')\n",
    "    fig = get_sunburst_diagram(data, 10)\n",
    "fig"
   ]
  },
  {
   "cell_type": "code",
   "execution_count": 7,
   "id": "f9e479a9-7bde-44a1-ac15-b840d7b6a44b",
   "metadata": {},
   "outputs": [],
   "source": [
    "with lbt.LogRuntime(level='warn'):\n",
    "    data = get_disk_data('/usr')\n",
    "    fig = get_sunburst_diagram(data, 5)\n",
    "fig"
   ]
  },
  {
   "cell_type": "code",
   "execution_count": 9,
   "id": "d6b12629-84e7-4eb7-827a-0e31a1d44ac5",
   "metadata": {},
   "outputs": [],
   "source": [
    "with lbt.LogRuntime(level='warn'):\n",
    "    data = get_disk_data('/lib')\n",
    "    fig = get_sunburst_diagram(data, 5)\n",
    "fig"
   ]
  },
  {
   "cell_type": "code",
   "execution_count": 49,
   "id": "1c3ac3d2-bcee-44dc-ad4b-1d0d1feb86be",
   "metadata": {},
   "outputs": [],
   "source": [
    "with lbt.LogRuntime(level='warn'):\n",
    "    data = get_disk_data('/home/ubuntu', exclude_regex='/rolling-pin')\n",
    "    fig = get_sunburst_diagram(data, 5)\n",
    "fig"
   ]
  },
  {
   "cell_type": "code",
   "execution_count": null,
   "id": "3e09591b-98cf-4794-bdce-80e2d40f5008",
   "metadata": {},
   "outputs": [],
   "source": []
  }
 ],
 "metadata": {
  "kernelspec": {
   "display_name": "Python 3 (ipykernel)",
   "language": "python",
   "name": "python3"
  },
  "language_info": {
   "codemirror_mode": {
    "name": "ipython",
    "version": 3
   },
   "file_extension": ".py",
   "mimetype": "text/x-python",
   "name": "python",
   "nbconvert_exporter": "python",
   "pygments_lexer": "ipython3",
   "version": "3.10.6"
  }
 },
 "nbformat": 4,
 "nbformat_minor": 5
}
